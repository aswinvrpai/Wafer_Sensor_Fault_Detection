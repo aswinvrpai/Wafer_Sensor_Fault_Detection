{
 "cells": [
  {
   "cell_type": "code",
   "execution_count": 1,
   "id": "883ba991-969b-47a6-9161-fa52b57226f9",
   "metadata": {},
   "outputs": [
    {
     "name": "stdout",
     "output_type": "stream",
     "text": [
      "Name   Stream\n",
      "Aswin  DS        7\n",
      "       ML        3\n",
      "       NLP       2\n",
      "Name: count, dtype: int64\n"
     ]
    }
   ],
   "source": [
    "import pandas as pd\n",
    "df1 = pd.read_excel(r\"C:\\Users\\aswinp\\Documents\\worksheet.xlsx\",sheet_name=\"Sheet1\",header=0)\n",
    "df2 = pd.read_excel(r\"C:\\Users\\aswinp\\Documents\\worksheet.xlsx\",sheet_name=\"Sheet2\",header=0)\n",
    "# print(df1.head(25))\n",
    "df=pd.concat([df1,df2])\n",
    "print(df[df['Name']==\"Aswin\"].value_counts())"
   ]
  },
  {
   "cell_type": "code",
   "execution_count": 9,
   "id": "d6aaf638-0d0f-423f-9bc2-4b8add29225a",
   "metadata": {},
   "outputs": [
    {
     "data": {
      "text/plain": [
       "Name   Stream\n",
       "Aswin  DS        7\n",
       "       ML        3\n",
       "       NLP       2\n",
       "Krish  DS        4\n",
       "       ML        8\n",
       "Sudh   DS        1\n",
       "       ML        6\n",
       "       NLP       7\n",
       "Name: Stream, dtype: int64"
      ]
     },
     "execution_count": 9,
     "metadata": {},
     "output_type": "execute_result"
    }
   ],
   "source": [
    "df.groupby(['Name','Stream'])['Stream'].count()"
   ]
  },
  {
   "cell_type": "code",
   "execution_count": null,
   "id": "37f989fd-f8d2-4973-b3e0-fc8840424bd6",
   "metadata": {},
   "outputs": [],
   "source": []
  }
 ],
 "metadata": {
  "kernelspec": {
   "display_name": "Python 3 (ipykernel)",
   "language": "python",
   "name": "python3"
  },
  "language_info": {
   "codemirror_mode": {
    "name": "ipython",
    "version": 3
   },
   "file_extension": ".py",
   "mimetype": "text/x-python",
   "name": "python",
   "nbconvert_exporter": "python",
   "pygments_lexer": "ipython3",
   "version": "3.12.3"
  }
 },
 "nbformat": 4,
 "nbformat_minor": 5
}
